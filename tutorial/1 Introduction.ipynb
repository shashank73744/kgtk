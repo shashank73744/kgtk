{
 "cells": [
  {
   "cell_type": "markdown",
   "metadata": {},
   "source": [
    "# KGTK Tutorial: Introduction\n",
    "\n",
    "Beer sites:\n",
    "- https://www.realbeer.com/edu/health/calories.php\n",
    "- http://getdrunknotfat.com/alcohol-content-of-beer/"
   ]
  },
  {
   "cell_type": "code",
   "execution_count": 1,
   "metadata": {},
   "outputs": [
    {
     "name": "stdout",
     "output_type": "stream",
     "text": [
      "ALIAS: \"/Volumes/GoogleDrive/Shared drives/KGTK/datasets/wikidataos-v4/aliases.en.tsv.gz\"\n",
      "ALL: \"/Volumes/GoogleDrive/Shared drives/KGTK/datasets/wikidataos-v4/all.tsv.gz\"\n",
      "CLAIMS: \"/Volumes/GoogleDrive/Shared drives/KGTK/datasets/wikidataos-v4/claims.tsv.gz\"\n",
      "DESCRIPTION: \"/Volumes/GoogleDrive/Shared drives/KGTK/datasets/wikidataos-v4/descriptions.en.tsv.gz\"\n",
      "EXAMPLES_DIR: \"/Users/amandeep/Github/kgtk/examples\"\n",
      "GE: \"/Users/amandeep/Documents/kypher/temp.wikidata_os_v5/graph-embedding\"\n",
      "ISA: \"/Volumes/GoogleDrive/Shared drives/KGTK/datasets/wikidataos-v4/derived.isa.tsv.gz\"\n",
      "ITEM: \"/Volumes/GoogleDrive/Shared drives/KGTK/datasets/wikidataos-v4/claims.wikibase-item.tsv.gz\"\n",
      "LABEL: \"/Volumes/GoogleDrive/Shared drives/KGTK/datasets/wikidataos-v4/labels.en.tsv.gz\"\n",
      "OUT: \"/Users/amandeep/Documents/kypher/wikidata_os_v5\"\n",
      "P279: \"/Volumes/GoogleDrive/Shared drives/KGTK/datasets/wikidataos-v4/derived.P279.tsv.gz\"\n",
      "P279STAR: \"/Volumes/GoogleDrive/Shared drives/KGTK/datasets/wikidataos-v4/derived.P279star.tsv.gz\"\n",
      "PROPERTY_DATATYPES: \"/Volumes/GoogleDrive/Shared drives/KGTK/datasets/wikidataos-v4/metadata.property.datatypes.tsv.gz\"\n",
      "Q154ALIAS: \"/Users/amandeep/Documents/kypher/wikidata_os_v5/parts/aliases.en.tsv.gz\"\n",
      "Q154ALL: \"/Users/amandeep/Documents/kypher/wikidata_os_v5/parts/all.tsv.gz\"\n",
      "Q154CLAIMS: \"/Users/amandeep/Documents/kypher/wikidata_os_v5/parts/claims.tsv.gz\"\n",
      "Q154DESCRIPTION: \"/Users/amandeep/Documents/kypher/wikidata_os_v5/parts/descriptions.en.tsv.gz\"\n",
      "Q154ISA: \"/Users/amandeep/Documents/kypher/wikidata_os_v5/parts/derived.isa.tsv.gz\"\n",
      "Q154ITEM: \"/Users/amandeep/Documents/kypher/wikidata_os_v5/parts/claims.wikibase-item.tsv.gz\"\n",
      "Q154LABEL: \"/Users/amandeep/Documents/kypher/wikidata_os_v5/parts/labels.en.tsv.gz\"\n",
      "Q154P279: \"/Users/amandeep/Documents/kypher/wikidata_os_v5/parts/derived.P279.tsv.gz\"\n",
      "Q154P279STAR: \"/Users/amandeep/Documents/kypher/wikidata_os_v5/parts/derived.P279star.tsv.gz\"\n",
      "Q154PROPERTY_DATATYPES: \"/Users/amandeep/Documents/kypher/wikidata_os_v5/parts/metadata.property.datatypes.tsv.gz\"\n",
      "Q154QUALIFIERS: \"/Users/amandeep/Documents/kypher/wikidata_os_v5/parts/qualifiers.tsv.gz\"\n",
      "Q154QUALIFIERS_TIME: \"/Users/amandeep/Documents/kypher/wikidata_os_v5/parts/qualifiers.time.tsv.gz\"\n",
      "Q154SITELINKS: \"/Users/amandeep/Documents/kypher/wikidata_os_v5/parts/sitelinks.tsv.gz\"\n",
      "QUALIFIERS: \"/Volumes/GoogleDrive/Shared drives/KGTK/datasets/wikidataos-v4/qualifiers.tsv.gz\"\n",
      "QUALIFIERS_TIME: \"/Volumes/GoogleDrive/Shared drives/KGTK/datasets/wikidataos-v4/qualifiers.time.tsv.gz\"\n",
      "SITELINKS: \"/Volumes/GoogleDrive/Shared drives/KGTK/datasets/wikidataos-v4/sitelinks.tsv.gz\"\n",
      "STORE: \"/Users/amandeep/Documents/kypher/temp.wikidata_os_v5/wikidata.sqlite3.db\"\n",
      "TE: \"/Users/amandeep/Documents/kypher/temp.wikidata_os_v5/text-embedding\"\n",
      "TEMP: \"/Users/amandeep/Documents/kypher/temp.wikidata_os_v5\"\n",
      "USECASE_DIR: \"/Users/amandeep/Github/kgtk/use-cases\"\n",
      "WIKIDATA: \"/Volumes/GoogleDrive/Shared drives/KGTK/datasets/wikidataos-v4/\"\n",
      "kgtk: \"time kgtk --debug\"\n",
      "kypher: \"kgtk query --graph-cache /Users/amandeep/Documents/kypher/temp.wikidata_os_v5/wikidata.sqlite3.db\"\n"
     ]
    }
   ],
   "source": [
    "import sys  \n",
    "sys.path.insert(0, 'tutorial')\n",
    "from tutorial_setup import *"
   ]
  },
  {
   "cell_type": "code",
   "execution_count": 2,
   "metadata": {},
   "outputs": [
    {
     "name": "stdout",
     "output_type": "stream",
     "text": [
      "/Users/amandeep/Documents/kypher\n"
     ]
    }
   ],
   "source": [
    "!mkdir -p {output_path}\n",
    "%cd {output_path}"
   ]
  },
  {
   "cell_type": "code",
   "execution_count": 3,
   "metadata": {},
   "outputs": [
    {
     "name": "stdout",
     "output_type": "stream",
     "text": [
      "mkdir: wikidata_os_v5: File exists\n",
      "mkdir: temp.wikidata_os_v5: File exists\n"
     ]
    }
   ],
   "source": [
    "!mkdir -p {output_folder}\n",
    "!mkdir -p {temp_folder}"
   ]
  },
  {
   "cell_type": "code",
   "execution_count": 4,
   "metadata": {},
   "outputs": [
    {
     "name": "stdout",
     "output_type": "stream",
     "text": [
      "mkdir: /Users/amandeep/Documents/kypher/temp.wikidata_os_v5/graph-embedding: File exists\n"
     ]
    }
   ],
   "source": [
    "!mkdir -p \"$GE\""
   ]
  },
  {
   "cell_type": "code",
   "execution_count": 6,
   "metadata": {},
   "outputs": [],
   "source": [
    "!mkdir -p \"$TE\""
   ]
  },
  {
   "cell_type": "markdown",
   "metadata": {},
   "source": [
    "# Wikidata in KGTK\n",
    "KGTK has the ability to import a Wikidata JSON dump and covert it to the KGTK representation to make it easy to process the full Wikidata KG in a laptop. There are 86 files which include all the information available in the Wikidata dump and files containing commonly used information derived from the dump. We partitioned the files because in most use cases you only need to use a subset of the files.\n",
    "\n",
    "The files are very large. `claims.tsv` (23GB compressed) contains all the statements in the Wikidata dump, `qualifiers.tsv` contains the qualifiers of those edges, and `labels.en.tsv`, `aliases.en.tsv` and `descriptions.en.tsv` contain the English labels, aliases and descriptions."
   ]
  },
  {
   "cell_type": "code",
   "execution_count": 7,
   "metadata": {},
   "outputs": [
    {
     "name": "stdout",
     "output_type": "stream",
     "text": [
      "-rw-------  1 amandeep  staff    73M Dec  9 14:11 /Volumes/GoogleDrive/Shared drives/KGTK/datasets/wikidataos-v4/aliases.en.tsv.gz\n",
      "-rw-------  1 amandeep  staff   5.2G Dec  9 14:05 /Volumes/GoogleDrive/Shared drives/KGTK/datasets/wikidataos-v4/claims.tsv.gz\n",
      "-rw-------  1 amandeep  staff   290M Dec  9 14:12 /Volumes/GoogleDrive/Shared drives/KGTK/datasets/wikidataos-v4/descriptions.en.tsv.gz\n",
      "-rw-------  1 amandeep  staff   401M Dec  9 14:11 /Volumes/GoogleDrive/Shared drives/KGTK/datasets/wikidataos-v4/labels.en.tsv.gz\n",
      "-rw-------  1 amandeep  staff   768M Dec  9 14:51 /Volumes/GoogleDrive/Shared drives/KGTK/datasets/wikidataos-v4/qualifiers.tsv.gz\n"
     ]
    }
   ],
   "source": [
    "!ls -lh \"$CLAIMS\" \"$QUALIFIERS\" \"$LABEL\" \"$ALIAS\" \"$DESCRIPTION\""
   ]
  },
  {
   "cell_type": "markdown",
   "metadata": {},
   "source": [
    "`claims.tsv` contains many edges:"
   ]
  },
  {
   "cell_type": "code",
   "execution_count": 81,
   "metadata": {},
   "outputs": [
    {
     "name": "stdout",
     "output_type": "stream",
     "text": [
      " 285160805 1770487103 22786890569\n",
      "zcat < \"$CLAIMS\"  74.47s user 15.51s system 86% cpu 1:44.48 total\n",
      "wc  79.97s user 3.02s system 79% cpu 1:44.48 total\n"
     ]
    }
   ],
   "source": [
    "!time zcat < \"$CLAIMS\" | wc"
   ]
  },
  {
   "cell_type": "markdown",
   "metadata": {},
   "source": [
    "# KGTK Data Model\n",
    "The KGTK data model is a generalization of RDF and property graphs, inspired by the Wikidata data model. In KGTK, a KG is represented using TSV files with four columns: three columns to store the subject, predicate and object of a triple, and a fourth column to store an identifier for the triple. By convention, we use the heading `id` for the identifier, `node1` for the subject, `node2` for the object and `label` for the predicate, as it labels the edge between `node1` and `node2`. The order of the columns is arbitrary.\n",
    "\n",
    "All KGTK files must include the required `id`, `node1`, `label` and `node2` columns, and can contain additional columns to store addtional information about an edge or the nodes in the edge. We will explain the details after we discuss *qualifiers*.\n",
    "Let's take a look at the first few lines of the `claims.tsv` file. We see the four required columns and two additional columns that the Wikidata import includes to facilitate processing of the `claims` file using custom scripts. The `rank` column records the Wikidata rank of a statement, and the `node2;wikidatatype` records the Wikidata type of the value in the `node2` column."
   ]
  },
  {
   "cell_type": "markdown",
   "metadata": {},
   "source": [
    "## Claims"
   ]
  },
  {
   "cell_type": "code",
   "execution_count": 8,
   "metadata": {},
   "outputs": [
    {
     "name": "stdout",
     "output_type": "stream",
     "text": [
      "id                              node1  label  node2                                    rank    node2;wikidatatype\n",
      "P10-P1628-32b85d-7927ece6-0     P10    P1628  \"http://www.w3.org/2006/vcard/ns#Video\"  normal  url\n",
      "P10-P1628-acf60d-b8950832-0     P10    P1628  \"https://schema.org/video\"               normal  url\n",
      "zcat: P10-P1629-Q34508-bcc39400-0     P10    P1629  Q34508                                   normal  wikibase-item\n",
      "P10-P1659-P1651-c4068028-0      P10    P1659  P1651                                    normal  wikibase-property\n",
      "P10-P1659-P18-5e4b9c4f-0        P10    P1659  P18                                      normal  wikibase-property\n",
      "P10-P1659-P4238-d21d1ac0-0      P10    P1659  P4238                                    normal  wikibase-property\n",
      "P10-P1659-P51-86aca4c5-0        P10    P1659  P51                                      normal  wikibase-property\n",
      "error writing to outputP10-P1855-Q15075950-7eff6d65-0  P10    P1855  Q15075950                                normal  wikibase-item\n",
      ": P10-P1855-Q69063653-c8cdb04c-0  P10    P1855  Q69063653                                normal  wikibase-item\n",
      "Broken pipe\n"
     ]
    }
   ],
   "source": [
    "!zcat < \"$CLAIMS\" | head | column -t -s $'\\t'"
   ]
  },
  {
   "cell_type": "markdown",
   "metadata": {},
   "source": [
    "Wikidata uses numbers to identify items and properties. We can use the `wd` utility (https://github.com/maxlath/wikibase-cli) to understand the first few lines. The second line states that the `P10` property in Wikidata has an equivalent property in another ontology. Notice that each edge has a distinct id. These ids are unique identifiers for statements (the format of the id can be arbitrary, but we assigned ids so that sorting files by id arranges the information so that all edges about a subject are consecutive."
   ]
  },
  {
   "cell_type": "code",
   "execution_count": 83,
   "metadata": {},
   "outputs": [
    {
     "name": "stdout",
     "output_type": "stream",
     "text": [
      "\u001b[90mid\u001b[39m P10\n",
      "\u001b[42mLabel\u001b[49m video\n",
      "\u001b[44mDescription\u001b[49m relevant video. For images, use the property P18. For film trailers, qualify with \"object has role\" (P3831)=\"trailer\" (Q622550)\n",
      "\u001b[30m\u001b[47minstance of\u001b[49m\u001b[39m \u001b[90m(P31)\u001b[39m\u001b[90m: \u001b[39mWikidata property to link to Commons \u001b[90m(Q18610173)\u001b[39m\n",
      "\n",
      "\u001b[90mid\u001b[39m P1628\n",
      "\u001b[42mLabel\u001b[49m equivalent property\n",
      "\u001b[44mDescription\u001b[49m equivalent property in other ontologies (use in statements on properties, use property URI)\n",
      "\u001b[30m\u001b[47minstance of\u001b[49m\u001b[39m \u001b[90m(P31)\u001b[39m\u001b[90m: \u001b[39mWikidata metaproperty for ontology mapping \u001b[90m(Q42842547)\u001b[39m\n",
      "\n",
      "\u001b[90mid\u001b[39m P1629\n",
      "\u001b[42mLabel\u001b[49m subject item of this property\n",
      "\u001b[44mDescription\u001b[49m relationship represented by the property\n",
      "\u001b[30m\u001b[47minstance of\u001b[49m\u001b[39m \u001b[90m(P31)\u001b[39m\u001b[90m: \u001b[39mWikidata property for property documentation \u001b[90m(Q19820110)\u001b[39m\n"
     ]
    }
   ],
   "source": [
    "!wd u P10 P1628 P1629"
   ]
  },
  {
   "cell_type": "markdown",
   "metadata": {},
   "source": [
    "Let's look at a more meaningful example. `Q31` (https://www.wikidata.org/wiki/Q31) is the Wikidata item about Belgium. We will use the KGTK query to fetch edges about Belgium. `$kypher` is a shortcut to the `kgtk query` command where in addition we pass in the location of the SQLite database we are using ot store the files. KGTK queries use Cypher syntax (https://neo4j.com/developer/cypher/): the following simple query retrieves 10 edges where `node1` is `Q31`, the q-node for Belgium. The results include an edge with `label` `P1036` (Dewey Decimal Classification) and several edges with label `P1081` (human development index).\n",
    "\n",
    " **Note:** We are using the `--as` options in `kgtk query` to set an alias for the `$CLAIMS` file. This alias can be used in the subsequent `kgtk query` commands."
   ]
  },
  {
   "cell_type": "code",
   "execution_count": 7,
   "metadata": {},
   "outputs": [
    {
     "data": {
      "text/html": [
       "<div>\n",
       "<style scoped>\n",
       "    .dataframe tbody tr th:only-of-type {\n",
       "        vertical-align: middle;\n",
       "    }\n",
       "\n",
       "    .dataframe tbody tr th {\n",
       "        vertical-align: top;\n",
       "    }\n",
       "\n",
       "    .dataframe thead th {\n",
       "        text-align: right;\n",
       "    }\n",
       "</style>\n",
       "<table border=\"1\" class=\"dataframe\">\n",
       "  <thead>\n",
       "    <tr style=\"text-align: right;\">\n",
       "      <th></th>\n",
       "      <th>id</th>\n",
       "      <th>node1</th>\n",
       "      <th>label</th>\n",
       "      <th>node2</th>\n",
       "      <th>rank</th>\n",
       "      <th>node2;wikidatatype</th>\n",
       "    </tr>\n",
       "  </thead>\n",
       "  <tbody>\n",
       "    <tr>\n",
       "      <th>0</th>\n",
       "      <td>Q31-P1036-c4e1ad-df86eeb8-0</td>\n",
       "      <td>Q31</td>\n",
       "      <td>P1036</td>\n",
       "      <td>\"2--493\"</td>\n",
       "      <td>normal</td>\n",
       "      <td>external-id</td>\n",
       "    </tr>\n",
       "    <tr>\n",
       "      <th>1</th>\n",
       "      <td>Q31-P1081-02c2ed-033524b0-0</td>\n",
       "      <td>Q31</td>\n",
       "      <td>P1081</td>\n",
       "      <td>+0.866</td>\n",
       "      <td>normal</td>\n",
       "      <td>quantity</td>\n",
       "    </tr>\n",
       "    <tr>\n",
       "      <th>2</th>\n",
       "      <td>Q31-P1081-02c2ed-7971505b-0</td>\n",
       "      <td>Q31</td>\n",
       "      <td>P1081</td>\n",
       "      <td>+0.866</td>\n",
       "      <td>normal</td>\n",
       "      <td>quantity</td>\n",
       "    </tr>\n",
       "    <tr>\n",
       "      <th>3</th>\n",
       "      <td>Q31-P1081-068470-c1c63b8d-0</td>\n",
       "      <td>Q31</td>\n",
       "      <td>P1081</td>\n",
       "      <td>+0.889</td>\n",
       "      <td>normal</td>\n",
       "      <td>quantity</td>\n",
       "    </tr>\n",
       "    <tr>\n",
       "      <th>4</th>\n",
       "      <td>Q31-P1081-068470-ddac01e0-0</td>\n",
       "      <td>Q31</td>\n",
       "      <td>P1081</td>\n",
       "      <td>+0.889</td>\n",
       "      <td>normal</td>\n",
       "      <td>quantity</td>\n",
       "    </tr>\n",
       "    <tr>\n",
       "      <th>5</th>\n",
       "      <td>Q31-P1081-144738-c1851cdc-0</td>\n",
       "      <td>Q31</td>\n",
       "      <td>P1081</td>\n",
       "      <td>+0.905</td>\n",
       "      <td>normal</td>\n",
       "      <td>quantity</td>\n",
       "    </tr>\n",
       "    <tr>\n",
       "      <th>6</th>\n",
       "      <td>Q31-P1081-175742-c07ac1c8-0</td>\n",
       "      <td>Q31</td>\n",
       "      <td>P1081</td>\n",
       "      <td>+0.888</td>\n",
       "      <td>normal</td>\n",
       "      <td>quantity</td>\n",
       "    </tr>\n",
       "    <tr>\n",
       "      <th>7</th>\n",
       "      <td>Q31-P1081-19636d-c08dd8a8-0</td>\n",
       "      <td>Q31</td>\n",
       "      <td>P1081</td>\n",
       "      <td>+0.896</td>\n",
       "      <td>normal</td>\n",
       "      <td>quantity</td>\n",
       "    </tr>\n",
       "    <tr>\n",
       "      <th>8</th>\n",
       "      <td>Q31-P1081-1efc03-433a7a4d-0</td>\n",
       "      <td>Q31</td>\n",
       "      <td>P1081</td>\n",
       "      <td>+0.913</td>\n",
       "      <td>normal</td>\n",
       "      <td>quantity</td>\n",
       "    </tr>\n",
       "    <tr>\n",
       "      <th>9</th>\n",
       "      <td>Q31-P1081-1f8602-ddac530d-0</td>\n",
       "      <td>Q31</td>\n",
       "      <td>P1081</td>\n",
       "      <td>+0.852</td>\n",
       "      <td>normal</td>\n",
       "      <td>quantity</td>\n",
       "    </tr>\n",
       "  </tbody>\n",
       "</table>\n",
       "</div>"
      ],
      "text/plain": [
       "                            id node1  label     node2    rank  \\\n",
       "0  Q31-P1036-c4e1ad-df86eeb8-0   Q31  P1036  \"2--493\"  normal   \n",
       "1  Q31-P1081-02c2ed-033524b0-0   Q31  P1081    +0.866  normal   \n",
       "2  Q31-P1081-02c2ed-7971505b-0   Q31  P1081    +0.866  normal   \n",
       "3  Q31-P1081-068470-c1c63b8d-0   Q31  P1081    +0.889  normal   \n",
       "4  Q31-P1081-068470-ddac01e0-0   Q31  P1081    +0.889  normal   \n",
       "5  Q31-P1081-144738-c1851cdc-0   Q31  P1081    +0.905  normal   \n",
       "6  Q31-P1081-175742-c07ac1c8-0   Q31  P1081    +0.888  normal   \n",
       "7  Q31-P1081-19636d-c08dd8a8-0   Q31  P1081    +0.896  normal   \n",
       "8  Q31-P1081-1efc03-433a7a4d-0   Q31  P1081    +0.913  normal   \n",
       "9  Q31-P1081-1f8602-ddac530d-0   Q31  P1081    +0.852  normal   \n",
       "\n",
       "  node2;wikidatatype  \n",
       "0        external-id  \n",
       "1           quantity  \n",
       "2           quantity  \n",
       "3           quantity  \n",
       "4           quantity  \n",
       "5           quantity  \n",
       "6           quantity  \n",
       "7           quantity  \n",
       "8           quantity  \n",
       "9           quantity  "
      ]
     },
     "execution_count": 7,
     "metadata": {},
     "output_type": "execute_result"
    }
   ],
   "source": [
    "result = !$kypher_raw -i \"$CLAIMS\" --as \"claims\" \\\n",
    "--match '(:Q31)-[]-()' \\\n",
    "--limit 10 \n",
    "\n",
    "kgtk_to_dataframe(result)"
   ]
  },
  {
   "cell_type": "markdown",
   "metadata": {},
   "source": [
    "The output of the command above is hard to read because we are seeing the numeric Wikidata identifiers. To make the output more readable, we need to look up the labels of the Wikidata nodes. This information is in the `labels.en.tsv` file."
   ]
  },
  {
   "cell_type": "code",
   "execution_count": 10,
   "metadata": {},
   "outputs": [
    {
     "name": "stdout",
     "output_type": "stream",
     "text": [
      "id              node1  label  node2\n",
      "P10-label-en    P10    label  'video'@en\n",
      "P1000-label-en  P1000  label  'record held'@en\n",
      "zcat: P1001-label-en  P1001  label  'applies to jurisdiction'@en\n",
      "P1002-label-en  P1002  label  'engine configuration'@en\n",
      "P1003-label-en  P1003  label  'National Library of Romania ID'@en\n",
      "P1004-label-en  P1004  label  'MusicBrainz place ID'@en\n",
      "error writing to outputP1005-label-en  P1005  label  'Portuguese National Library ID'@en\n",
      ": P1006-label-en  P1006  label  'Nationale Thesaurus voor Auteurs ID'@en\n",
      "Broken pipe\n",
      "P1007-label-en  P1007  label  'Lattes Platform number'@en\n"
     ]
    }
   ],
   "source": [
    "!zcat < \"$LABEL\" | head | column -t -s $'\\t'"
   ]
  },
  {
   "cell_type": "markdown",
   "metadata": {},
   "source": [
    "With KGTK accepts multiple files as input, and can do a join to retrieve the label for each property. When using multiple files, it is necessary to tag each clause with the file that provides the data for the clause. For example, the first clause is tagged with `claim` as the word `claim` is part of the file name. The variable property is used to connect the two clauses.\n",
    "\n",
    "**Note:** We user the alias `claims` defined in a previous cell and introduced a new alias for the `$LABEL` file"
   ]
  },
  {
   "cell_type": "code",
   "execution_count": 13,
   "metadata": {},
   "outputs": [
    {
     "data": {
      "text/html": [
       "<div>\n",
       "<style scoped>\n",
       "    .dataframe tbody tr th:only-of-type {\n",
       "        vertical-align: middle;\n",
       "    }\n",
       "\n",
       "    .dataframe tbody tr th {\n",
       "        vertical-align: top;\n",
       "    }\n",
       "\n",
       "    .dataframe thead th {\n",
       "        text-align: right;\n",
       "    }\n",
       "</style>\n",
       "<table border=\"1\" class=\"dataframe\">\n",
       "  <thead>\n",
       "    <tr style=\"text-align: right;\">\n",
       "      <th></th>\n",
       "      <th>id</th>\n",
       "      <th>node1</th>\n",
       "      <th>label</th>\n",
       "      <th>node2</th>\n",
       "      <th>label;label</th>\n",
       "    </tr>\n",
       "  </thead>\n",
       "  <tbody>\n",
       "    <tr>\n",
       "      <th>0</th>\n",
       "      <td>Q31-P1036-c4e1ad-df86eeb8-0</td>\n",
       "      <td>Q31</td>\n",
       "      <td>P1036</td>\n",
       "      <td>\"2--493\"</td>\n",
       "      <td>'Dewey Decimal Classification'@en</td>\n",
       "    </tr>\n",
       "    <tr>\n",
       "      <th>1</th>\n",
       "      <td>Q31-P1081-02c2ed-033524b0-0</td>\n",
       "      <td>Q31</td>\n",
       "      <td>P1081</td>\n",
       "      <td>+0.866</td>\n",
       "      <td>'Human Development Index'@en</td>\n",
       "    </tr>\n",
       "    <tr>\n",
       "      <th>2</th>\n",
       "      <td>Q31-P1081-02c2ed-7971505b-0</td>\n",
       "      <td>Q31</td>\n",
       "      <td>P1081</td>\n",
       "      <td>+0.866</td>\n",
       "      <td>'Human Development Index'@en</td>\n",
       "    </tr>\n",
       "    <tr>\n",
       "      <th>3</th>\n",
       "      <td>Q31-P1081-068470-c1c63b8d-0</td>\n",
       "      <td>Q31</td>\n",
       "      <td>P1081</td>\n",
       "      <td>+0.889</td>\n",
       "      <td>'Human Development Index'@en</td>\n",
       "    </tr>\n",
       "    <tr>\n",
       "      <th>4</th>\n",
       "      <td>Q31-P1081-068470-ddac01e0-0</td>\n",
       "      <td>Q31</td>\n",
       "      <td>P1081</td>\n",
       "      <td>+0.889</td>\n",
       "      <td>'Human Development Index'@en</td>\n",
       "    </tr>\n",
       "    <tr>\n",
       "      <th>5</th>\n",
       "      <td>Q31-P1081-144738-c1851cdc-0</td>\n",
       "      <td>Q31</td>\n",
       "      <td>P1081</td>\n",
       "      <td>+0.905</td>\n",
       "      <td>'Human Development Index'@en</td>\n",
       "    </tr>\n",
       "    <tr>\n",
       "      <th>6</th>\n",
       "      <td>Q31-P1081-175742-c07ac1c8-0</td>\n",
       "      <td>Q31</td>\n",
       "      <td>P1081</td>\n",
       "      <td>+0.888</td>\n",
       "      <td>'Human Development Index'@en</td>\n",
       "    </tr>\n",
       "    <tr>\n",
       "      <th>7</th>\n",
       "      <td>Q31-P1081-19636d-c08dd8a8-0</td>\n",
       "      <td>Q31</td>\n",
       "      <td>P1081</td>\n",
       "      <td>+0.896</td>\n",
       "      <td>'Human Development Index'@en</td>\n",
       "    </tr>\n",
       "    <tr>\n",
       "      <th>8</th>\n",
       "      <td>Q31-P1081-1efc03-433a7a4d-0</td>\n",
       "      <td>Q31</td>\n",
       "      <td>P1081</td>\n",
       "      <td>+0.913</td>\n",
       "      <td>'Human Development Index'@en</td>\n",
       "    </tr>\n",
       "    <tr>\n",
       "      <th>9</th>\n",
       "      <td>Q31-P1081-1f8602-ddac530d-0</td>\n",
       "      <td>Q31</td>\n",
       "      <td>P1081</td>\n",
       "      <td>+0.852</td>\n",
       "      <td>'Human Development Index'@en</td>\n",
       "    </tr>\n",
       "  </tbody>\n",
       "</table>\n",
       "</div>"
      ],
      "text/plain": [
       "                            id node1  label     node2  \\\n",
       "0  Q31-P1036-c4e1ad-df86eeb8-0   Q31  P1036  \"2--493\"   \n",
       "1  Q31-P1081-02c2ed-033524b0-0   Q31  P1081    +0.866   \n",
       "2  Q31-P1081-02c2ed-7971505b-0   Q31  P1081    +0.866   \n",
       "3  Q31-P1081-068470-c1c63b8d-0   Q31  P1081    +0.889   \n",
       "4  Q31-P1081-068470-ddac01e0-0   Q31  P1081    +0.889   \n",
       "5  Q31-P1081-144738-c1851cdc-0   Q31  P1081    +0.905   \n",
       "6  Q31-P1081-175742-c07ac1c8-0   Q31  P1081    +0.888   \n",
       "7  Q31-P1081-19636d-c08dd8a8-0   Q31  P1081    +0.896   \n",
       "8  Q31-P1081-1efc03-433a7a4d-0   Q31  P1081    +0.913   \n",
       "9  Q31-P1081-1f8602-ddac530d-0   Q31  P1081    +0.852   \n",
       "\n",
       "                         label;label  \n",
       "0  'Dewey Decimal Classification'@en  \n",
       "1       'Human Development Index'@en  \n",
       "2       'Human Development Index'@en  \n",
       "3       'Human Development Index'@en  \n",
       "4       'Human Development Index'@en  \n",
       "5       'Human Development Index'@en  \n",
       "6       'Human Development Index'@en  \n",
       "7       'Human Development Index'@en  \n",
       "8       'Human Development Index'@en  \n",
       "9       'Human Development Index'@en  "
      ]
     },
     "execution_count": 13,
     "metadata": {},
     "output_type": "execute_result"
    }
   ],
   "source": [
    "result = !$kypher -i claims -i \"$LABEL\" --as \"labels\" \\\n",
    "--match 'claim: (n1:Q31)-[l {label: property}]-(n2), label: (property)-[:label]->(property_label)' \\\n",
    "--return 'l as id, n1 as node1, property as label, n2 as node2, property_label as `label;label`' \\\n",
    "--limit 10 \n",
    "\n",
    "kgtk_to_dataframe(result)"
   ]
  },
  {
   "cell_type": "markdown",
   "metadata": {},
   "source": [
    "Let's look at a the heads of state of Belgium recorded in property `P35`"
   ]
  },
  {
   "cell_type": "code",
   "execution_count": 14,
   "metadata": {},
   "outputs": [
    {
     "data": {
      "text/html": [
       "<div>\n",
       "<style scoped>\n",
       "    .dataframe tbody tr th:only-of-type {\n",
       "        vertical-align: middle;\n",
       "    }\n",
       "\n",
       "    .dataframe tbody tr th {\n",
       "        vertical-align: top;\n",
       "    }\n",
       "\n",
       "    .dataframe thead th {\n",
       "        text-align: right;\n",
       "    }\n",
       "</style>\n",
       "<table border=\"1\" class=\"dataframe\">\n",
       "  <thead>\n",
       "    <tr style=\"text-align: right;\">\n",
       "      <th></th>\n",
       "      <th>id</th>\n",
       "      <th>node1</th>\n",
       "      <th>label</th>\n",
       "      <th>node2</th>\n",
       "      <th>node2;label</th>\n",
       "    </tr>\n",
       "  </thead>\n",
       "  <tbody>\n",
       "    <tr>\n",
       "      <th>0</th>\n",
       "      <td>Q31-P35-Q1079522-c82ed584-0</td>\n",
       "      <td>Q31</td>\n",
       "      <td>P35</td>\n",
       "      <td>Q1079522</td>\n",
       "      <td>'Erasme Louis Surlet de Chokier'@en</td>\n",
       "    </tr>\n",
       "    <tr>\n",
       "      <th>1</th>\n",
       "      <td>Q31-P35-Q12967-f2b9aaf3-0</td>\n",
       "      <td>Q31</td>\n",
       "      <td>P35</td>\n",
       "      <td>Q12967</td>\n",
       "      <td>'Leopold II of Belgium'@en</td>\n",
       "    </tr>\n",
       "    <tr>\n",
       "      <th>2</th>\n",
       "      <td>Q31-P35-Q12971-2088471b-0</td>\n",
       "      <td>Q31</td>\n",
       "      <td>P35</td>\n",
       "      <td>Q12971</td>\n",
       "      <td>'Leopold I of Belgium'@en</td>\n",
       "    </tr>\n",
       "    <tr>\n",
       "      <th>3</th>\n",
       "      <td>Q31-P35-Q12973-31c1b700-0</td>\n",
       "      <td>Q31</td>\n",
       "      <td>P35</td>\n",
       "      <td>Q12973</td>\n",
       "      <td>'Leopold III of Belgium'@en</td>\n",
       "    </tr>\n",
       "    <tr>\n",
       "      <th>4</th>\n",
       "      <td>Q31-P35-Q12976-f3e8a567-0</td>\n",
       "      <td>Q31</td>\n",
       "      <td>P35</td>\n",
       "      <td>Q12976</td>\n",
       "      <td>'Baudouin I of Belgium'@en</td>\n",
       "    </tr>\n",
       "    <tr>\n",
       "      <th>5</th>\n",
       "      <td>Q31-P35-Q155004-619ba603-0</td>\n",
       "      <td>Q31</td>\n",
       "      <td>P35</td>\n",
       "      <td>Q155004</td>\n",
       "      <td>'Philippe of Belgium'@en</td>\n",
       "    </tr>\n",
       "    <tr>\n",
       "      <th>6</th>\n",
       "      <td>Q31-P35-Q3911-137f01fe-0</td>\n",
       "      <td>Q31</td>\n",
       "      <td>P35</td>\n",
       "      <td>Q3911</td>\n",
       "      <td>'Albert II of Belgium'@en</td>\n",
       "    </tr>\n",
       "    <tr>\n",
       "      <th>7</th>\n",
       "      <td>Q31-P35-Q445553-7599749f-0</td>\n",
       "      <td>Q31</td>\n",
       "      <td>P35</td>\n",
       "      <td>Q445553</td>\n",
       "      <td>'Prince Charles, Count of Flanders'@en</td>\n",
       "    </tr>\n",
       "    <tr>\n",
       "      <th>8</th>\n",
       "      <td>Q31-P35-Q55008046-725dce40-0</td>\n",
       "      <td>Q31</td>\n",
       "      <td>P35</td>\n",
       "      <td>Q55008046</td>\n",
       "      <td>'Albert I of Belgium'@en</td>\n",
       "    </tr>\n",
       "  </tbody>\n",
       "</table>\n",
       "</div>"
      ],
      "text/plain": [
       "                             id node1 label      node2  \\\n",
       "0   Q31-P35-Q1079522-c82ed584-0   Q31   P35   Q1079522   \n",
       "1     Q31-P35-Q12967-f2b9aaf3-0   Q31   P35     Q12967   \n",
       "2     Q31-P35-Q12971-2088471b-0   Q31   P35     Q12971   \n",
       "3     Q31-P35-Q12973-31c1b700-0   Q31   P35     Q12973   \n",
       "4     Q31-P35-Q12976-f3e8a567-0   Q31   P35     Q12976   \n",
       "5    Q31-P35-Q155004-619ba603-0   Q31   P35    Q155004   \n",
       "6      Q31-P35-Q3911-137f01fe-0   Q31   P35      Q3911   \n",
       "7    Q31-P35-Q445553-7599749f-0   Q31   P35    Q445553   \n",
       "8  Q31-P35-Q55008046-725dce40-0   Q31   P35  Q55008046   \n",
       "\n",
       "                              node2;label  \n",
       "0     'Erasme Louis Surlet de Chokier'@en  \n",
       "1              'Leopold II of Belgium'@en  \n",
       "2               'Leopold I of Belgium'@en  \n",
       "3             'Leopold III of Belgium'@en  \n",
       "4              'Baudouin I of Belgium'@en  \n",
       "5                'Philippe of Belgium'@en  \n",
       "6               'Albert II of Belgium'@en  \n",
       "7  'Prince Charles, Count of Flanders'@en  \n",
       "8                'Albert I of Belgium'@en  "
      ]
     },
     "execution_count": 14,
     "metadata": {},
     "output_type": "execute_result"
    }
   ],
   "source": [
    "result = !$kypher -i claims -i labels \\\n",
    "--match 'claims: (n1:Q31)-[l:P35]->(n2), labels: (n2)-[:label]->(n2_label)' \\\n",
    "--return 'l as id, n1 as node1, l.label as label, n2 as node2, n2_label as `node2;label`' \\\n",
    "--limit 10 \n",
    "\n",
    "kgtk_to_dataframe(result)"
   ]
  },
  {
   "cell_type": "markdown",
   "metadata": {},
   "source": [
    "## Qualifiers\n",
    "Qualifiers provide additional information about the claims stated in the edges. For `P1081` the qualifiers tell use the year, and for head of state the qualifiers provide information about the period of time and position held by the head of state. The qualifiers can be retrieved using the identifiers of the edges. Let's retrieve the qualifiers associated with the edge for the first head of state (Erasme Louis). To do so, we use the identifier of the edge (`Q31-P35-Q1079522-c82ed584-0`) as `node1` in the `qualifiers.tsv` file. We get three edges, meaning that the edge `Q31/P35/Q1079522` has three qualifiers. Note that the qualifier edges are the same as any other edge in KGTK, having `id`, `node1`, `label` and `node2` columns:"
   ]
  },
  {
   "cell_type": "code",
   "execution_count": 15,
   "metadata": {},
   "outputs": [
    {
     "name": "stdout",
     "output_type": "stream",
     "text": [
      "id                                         node1                        label  node2                     node2;wikidatatype\n",
      "Q31-P35-Q1079522-c82ed584-0-P39-Q477406-0  Q31-P35-Q1079522-c82ed584-0  P39    Q477406                   wikibase-item\n",
      "Q31-P35-Q1079522-c82ed584-0-P580-106076-0  Q31-P35-Q1079522-c82ed584-0  P580   ^1831-02-25T00:00:00Z/11  time\n",
      "Q31-P35-Q1079522-c82ed584-0-P582-774519-0  Q31-P35-Q1079522-c82ed584-0  P582   ^1831-07-20T00:00:00Z/11  time\n"
     ]
    }
   ],
   "source": [
    "!$kypher -i \"$QUALIFIERS\" --as \"qualifiers\" \\\n",
    "--match '(n1:`Q31-P35-Q1079522-c82ed584-0`)-[l]->(n2)' \\\n",
    "--limit 10 \\\n",
    "| column -t -s $'\\t'"
   ]
  },
  {
   "cell_type": "markdown",
   "metadata": {},
   "source": [
    "Let's make them readable: the following query combines the patterns of the previous two queries to retrieve the labels of the property and node2. The query omits the identifier of the qualifier edges to save space. Also, the headers of the two additional columns can be arbitrary, i.e., you can name them whatever you want; the names used follow a KGTK convention that enabled KGTK to automatically parse the output, which is useful if we want to use the output as an input to another KGTK command. The word before the `;` refers to one of the standard columns, and the name after the `;` refers to a property of that element. In this example, we used `label` as the column contains the label of the entity."
   ]
  },
  {
   "cell_type": "code",
   "execution_count": 16,
   "metadata": {},
   "outputs": [
    {
     "name": "stdout",
     "output_type": "stream",
     "text": [
      "node1                        label  node2                     label;label\n",
      "Q31-P35-Q1079522-c82ed584-0  P39    Q477406                   'position held'@en\n",
      "Q31-P35-Q1079522-c82ed584-0  P580   ^1831-02-25T00:00:00Z/11  'start time'@en\n",
      "Q31-P35-Q1079522-c82ed584-0  P582   ^1831-07-20T00:00:00Z/11  'end time'@en\n"
     ]
    }
   ],
   "source": [
    "!$kypher -i qualifiers -i labels \\\n",
    "--match 'qual: (n1:`Q31-P35-Q1079522-c82ed584-0`)-[l {label: property}]->(n2), labels: (property)-[:label]->(property_label)' \\\n",
    "--return 'n1 as node1, property as label, n2 as node2, property_label as `label;label`' \\\n",
    "--limit 10 \\\n",
    "| column -t -s $'\\t'"
   ]
  },
  {
   "cell_type": "markdown",
   "metadata": {},
   "source": [
    "Let's put all the values of `P35` in a file, which we will conveniently name `Q31.P35.tsv`"
   ]
  },
  {
   "cell_type": "code",
   "execution_count": 17,
   "metadata": {},
   "outputs": [],
   "source": [
    "!$kypher -i claims \\\n",
    "--match '(n1:Q31)-[l:P35]->(n2)' \\\n",
    "--return 'l as id, n1 as node1, l.label as label, n2 as node2' \\\n",
    "-o \"$TEMP\"/Q31.P35.tsv"
   ]
  },
  {
   "cell_type": "markdown",
   "metadata": {},
   "source": [
    "Now we are going to combine the `P35` edges of Belgium with the qualifiers. To do this we will run a query that uses the edges that we stored in `Q31.P35.tsv`, and retrieve the qualifiers for each of those edges; the result of our query will be the qualifier edges of the head of state edges. To union the qualifier edges with the claim edges, we feed the output of the query to the `cat` command (concatenate), and then feed the output to the `sort2` command to sort the edges. The first 12 edges are shown below. We see a claim edge followed by the qualifiers defined for it.\n",
    "\n",
    "This snippet illustrates that KGTK commands can be chained using the `/` chain operator to compose more complex workflows."
   ]
  },
  {
   "cell_type": "code",
   "execution_count": 18,
   "metadata": {},
   "outputs": [
    {
     "name": "stdout",
     "output_type": "stream",
     "text": [
      "id                                         node1                        label  node2\n",
      "Q31-P35-Q1079522-c82ed584-0                Q31                          P35    Q1079522\n",
      "Q31-P35-Q1079522-c82ed584-0-P39-Q477406-0  Q31-P35-Q1079522-c82ed584-0  P39    Q477406\n",
      "Q31-P35-Q1079522-c82ed584-0-P580-106076-0  Q31-P35-Q1079522-c82ed584-0  P580   ^1831-02-25T00:00:00Z/11\n",
      "Q31-P35-Q1079522-c82ed584-0-P582-774519-0  Q31-P35-Q1079522-c82ed584-0  P582   ^1831-07-20T00:00:00Z/11\n",
      "Q31-P35-Q12967-f2b9aaf3-0                  Q31                          P35    Q12967\n",
      "Q31-P35-Q12967-f2b9aaf3-0-P39-Q13592862-0  Q31-P35-Q12967-f2b9aaf3-0    P39    Q13592862\n",
      "Q31-P35-Q12967-f2b9aaf3-0-P580-f29037-0    Q31-P35-Q12967-f2b9aaf3-0    P580   ^1865-12-17T00:00:00Z/11\n",
      "Q31-P35-Q12967-f2b9aaf3-0-P582-136f02-0    Q31-P35-Q12967-f2b9aaf3-0    P582   ^1909-12-17T00:00:00Z/11\n",
      "Q31-P35-Q12971-2088471b-0                  Q31                          P35    Q12971\n",
      "Q31-P35-Q12971-2088471b-0-P39-Q13592862-0  Q31-P35-Q12971-2088471b-0    P39    Q13592862\n",
      "Q31-P35-Q12971-2088471b-0-P580-a35d41-0    Q31-P35-Q12971-2088471b-0    P580   ^1831-06-04T00:00:00Z/11\n"
     ]
    }
   ],
   "source": [
    "!$kypher -i qualifiers -i \"$TEMP\"/Q31.P35.tsv \\\n",
    "--match 'P35: ()-[l]->(), qual: (l)-[lq]->(n2)' \\\n",
    "--return 'lq as id, l as node1, lq.label as label, n2 as node2' \\\n",
    "/ cat -i - -i \"$TEMP\"/Q31.P35.tsv \\\n",
    "/ sort2 \\\n",
    "| head -12 \\\n",
    "| column -t -s $'\\t'"
   ]
  },
  {
   "cell_type": "markdown",
   "metadata": {},
   "source": [
    "## Summary\n",
    "\n",
    "- KGTK represents graphs in TSV files with standard columns `id`, `node1`, `label` and `node2`\n",
    "- It is possible to include arbitrary additional columns in KGTK files\n",
    "- The identifier of an edge can be used as a node in another edge enabling the representation of edges about edges\n",
    "- KGTK provides a powerful query command based on Cypher as well as a host of other commands, type `kgtk --help` to see the list of commands."
   ]
  }
 ],
 "metadata": {
  "kernelspec": {
   "display_name": "kgtk-env",
   "language": "python",
   "name": "kgtk-env"
  },
  "language_info": {
   "codemirror_mode": {
    "name": "ipython",
    "version": 3
   },
   "file_extension": ".py",
   "mimetype": "text/x-python",
   "name": "python",
   "nbconvert_exporter": "python",
   "pygments_lexer": "ipython3",
   "version": "3.7.9"
  }
 },
 "nbformat": 4,
 "nbformat_minor": 4
}
