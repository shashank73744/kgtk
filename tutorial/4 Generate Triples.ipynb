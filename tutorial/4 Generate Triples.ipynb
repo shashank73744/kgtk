{
 "cells": [
  {
   "cell_type": "code",
   "execution_count": 1,
   "id": "naughty-destiny",
   "metadata": {},
   "outputs": [
    {
     "name": "stdout",
     "output_type": "stream",
     "text": [
      "ALIAS: \"/Volumes/GoogleDrive/Shared drives/KGTK/datasets/wikidataos-v4/aliases.en.tsv.gz\"\n",
      "ALL: \"/Volumes/GoogleDrive/Shared drives/KGTK/datasets/wikidataos-v4/all.tsv.gz\"\n",
      "CLAIMS: \"/Volumes/GoogleDrive/Shared drives/KGTK/datasets/wikidataos-v4/claims.tsv.gz\"\n",
      "DESCRIPTION: \"/Volumes/GoogleDrive/Shared drives/KGTK/datasets/wikidataos-v4/descriptions.en.tsv.gz\"\n",
      "EXAMPLES_DIR: \"/Users/amandeep/Github/kgtk/examples\"\n",
      "GE: \"/Users/amandeep/Documents/kypher/temp.wikidata_os_v5/graph-embedding\"\n",
      "ISA: \"/Volumes/GoogleDrive/Shared drives/KGTK/datasets/wikidataos-v4/derived.isa.tsv.gz\"\n",
      "ITEM: \"/Volumes/GoogleDrive/Shared drives/KGTK/datasets/wikidataos-v4/claims.wikibase-item.tsv.gz\"\n",
      "LABEL: \"/Volumes/GoogleDrive/Shared drives/KGTK/datasets/wikidataos-v4/labels.en.tsv.gz\"\n",
      "OUT: \"/Users/amandeep/Documents/kypher/wikidata_os_v5\"\n",
      "P279: \"/Volumes/GoogleDrive/Shared drives/KGTK/datasets/wikidataos-v4/derived.P279.tsv.gz\"\n",
      "P279STAR: \"/Volumes/GoogleDrive/Shared drives/KGTK/datasets/wikidataos-v4/derived.P279star.tsv.gz\"\n",
      "PROPERTY_DATATYPES: \"/Volumes/GoogleDrive/Shared drives/KGTK/datasets/wikidataos-v4/metadata.property.datatypes.tsv.gz\"\n",
      "Q154ALIAS: \"/Users/amandeep/Documents/kypher/wikidata_os_v5/parts/aliases.en.tsv.gz\"\n",
      "Q154ALL: \"/Users/amandeep/Documents/kypher/wikidata_os_v5/parts/all.tsv.gz\"\n",
      "Q154CLAIMS: \"/Users/amandeep/Documents/kypher/wikidata_os_v5/parts/claims.tsv.gz\"\n",
      "Q154DESCRIPTION: \"/Users/amandeep/Documents/kypher/wikidata_os_v5/parts/descriptions.en.tsv.gz\"\n",
      "Q154ISA: \"/Users/amandeep/Documents/kypher/wikidata_os_v5/parts/derived.isa.tsv.gz\"\n",
      "Q154ITEM: \"/Users/amandeep/Documents/kypher/wikidata_os_v5/parts/claims.wikibase-item.tsv.gz\"\n",
      "Q154LABEL: \"/Users/amandeep/Documents/kypher/wikidata_os_v5/parts/labels.en.tsv.gz\"\n",
      "Q154P279: \"/Users/amandeep/Documents/kypher/wikidata_os_v5/parts/derived.P279.tsv.gz\"\n",
      "Q154P279STAR: \"/Users/amandeep/Documents/kypher/wikidata_os_v5/parts/derived.P279star.tsv.gz\"\n",
      "Q154PROPERTY_DATATYPES: \"/Users/amandeep/Documents/kypher/wikidata_os_v5/parts/metadata.property.datatypes.tsv.gz\"\n",
      "Q154QUALIFIERS: \"/Users/amandeep/Documents/kypher/wikidata_os_v5/parts/qualifiers.tsv.gz\"\n",
      "Q154QUALIFIERS_TIME: \"/Users/amandeep/Documents/kypher/wikidata_os_v5/parts/qualifiers.time.tsv.gz\"\n",
      "Q154SITELINKS: \"/Users/amandeep/Documents/kypher/wikidata_os_v5/parts/sitelinks.tsv.gz\"\n",
      "QUALIFIERS: \"/Volumes/GoogleDrive/Shared drives/KGTK/datasets/wikidataos-v4/qualifiers.tsv.gz\"\n",
      "QUALIFIERS_TIME: \"/Volumes/GoogleDrive/Shared drives/KGTK/datasets/wikidataos-v4/qualifiers.time.tsv.gz\"\n",
      "SITELINKS: \"/Volumes/GoogleDrive/Shared drives/KGTK/datasets/wikidataos-v4/sitelinks.tsv.gz\"\n",
      "STORE: \"/Users/amandeep/Documents/kypher/temp.wikidata_os_v5/wikidata.sqlite3.db\"\n",
      "TE: \"/Users/amandeep/Documents/kypher/temp.wikidata_os_v5/text-embedding\"\n",
      "TEMP: \"/Users/amandeep/Documents/kypher/temp.wikidata_os_v5\"\n",
      "USECASE_DIR: \"/Users/amandeep/Github/kgtk/use-cases\"\n",
      "WIKIDATA: \"/Volumes/GoogleDrive/Shared drives/KGTK/datasets/wikidataos-v4/\"\n",
      "kgtk: \"time kgtk --debug\"\n",
      "kypher: \"kgtk query --graph-cache /Users/amandeep/Documents/kypher/temp.wikidata_os_v5/wikidata.sqlite3.db\"\n"
     ]
    }
   ],
   "source": [
    "import sys  \n",
    "sys.path.insert(0, 'tutorial')\n",
    "from tutorial_setup import *"
   ]
  },
  {
   "cell_type": "markdown",
   "id": "violent-republic",
   "metadata": {},
   "source": [
    "### Sort the file with all edges and qualifiers for the subgraph"
   ]
  },
  {
   "cell_type": "markdown",
   "id": "concerned-beast",
   "metadata": {},
   "source": [
    "1. Concatenate the edge and qualifier file"
   ]
  },
  {
   "cell_type": "code",
   "execution_count": 2,
   "id": "equipped-driver",
   "metadata": {},
   "outputs": [
    {
     "name": "stdout",
     "output_type": "stream",
     "text": [
      "        3.19 real         2.40 user         0.20 sys\n"
     ]
    }
   ],
   "source": [
    "!$kgtk sort -i \"$TEMP\"/all_and_qualifiers.tsv.gz -o \"$OUT\"/all_and_qualifiers.sorted.1.tsv.gz"
   ]
  },
  {
   "cell_type": "markdown",
   "id": "uniform-negative",
   "metadata": {},
   "source": [
    "2. Remove the data type edges "
   ]
  },
  {
   "cell_type": "code",
   "execution_count": 3,
   "id": "angry-uruguay",
   "metadata": {},
   "outputs": [
    {
     "name": "stdout",
     "output_type": "stream",
     "text": [
      "        5.27 real         5.16 user         0.09 sys\n"
     ]
    }
   ],
   "source": [
    "!$kgtk filter -i \"$OUT\"/all_and_qualifiers.sorted.1.tsv.gz -p ';data_type,datatype;' \\\n",
    "--invert -o \"$OUT\"/all_and_qualifiers.sorted.tsv.gz"
   ]
  },
  {
   "cell_type": "markdown",
   "id": "careful-subsection",
   "metadata": {},
   "source": [
    "3. Create a data type for generating triples command"
   ]
  },
  {
   "cell_type": "code",
   "execution_count": 4,
   "id": "constant-cabin",
   "metadata": {},
   "outputs": [
    {
     "name": "stdout",
     "output_type": "stream",
     "text": [
      "        0.71 real         0.62 user         0.07 sys\n",
      "        0.78 real         0.67 user         0.07 sys\n"
     ]
    }
   ],
   "source": [
    "!$kgtk filter -i \"$TEMP\"/kgtk.properties.tsv -p ';data_type;' \\\n",
    "-o \"$TEMP/datatypes.kgtk.properties.tsv.gz\"\n",
    "\n",
    "!$kgtk cat -i \"$WIKIDATA\"/metadata.property.datatypes.tsv.gz  \\\n",
    "\"$TEMP\"/datatypes.kgtk.properties.tsv.gz \\\n",
    "-o \"$OUT\"/all.metadata.property.datatypes.tsv\n",
    "\n",
    "!gzip -f \"$OUT\"/all.metadata.property.datatypes.tsv"
   ]
  },
  {
   "cell_type": "markdown",
   "id": "fifth-float",
   "metadata": {},
   "source": [
    "4. Execute the Triple Generation notebook"
   ]
  },
  {
   "cell_type": "code",
   "execution_count": 4,
   "id": "smooth-bottom",
   "metadata": {},
   "outputs": [
    {
     "data": {
      "application/vnd.jupyter.widget-view+json": {
       "model_id": "d5ceaf9a195644ca9dbcba9e2531b783",
       "version_major": 2,
       "version_minor": 0
      },
      "text/plain": [
       "Executing:   0%|          | 0/14 [00:00<?, ?cell/s]"
      ]
     },
     "metadata": {},
     "output_type": "display_data"
    },
    {
     "data": {
      "text/plain": [
       "''"
      ]
     },
     "execution_count": 4,
     "metadata": {},
     "output_type": "execute_result"
    }
   ],
   "source": [
    "pm.execute_notebook(\n",
    "    os.environ[\"USECASE_DIR\"] + \"/Generate-Triples-And-Load-Blazegraph.ipynb\",\n",
    "    os.environ[\"TEMP\"] + \"/Generate-Triples-And-Load-Blazegraph-OUT.ipynb\",\n",
    "    parameters=dict(\n",
    "        kgtk_path = os.environ[\"OUT\"],\n",
    "        kgtk_file_name = \"all_and_qualifiers.sorted.tsv.gz\",\n",
    "        properties_file_path = os.environ[\"OUT\"] + \"/all.metadata.property.datatypes.tsv.gz\",\n",
    "        create_image = False,\n",
    "        load_triples = False\n",
    "    )\n",
    ")\n",
    ";"
   ]
  },
  {
   "cell_type": "markdown",
   "id": "welsh-highway",
   "metadata": {},
   "source": [
    "5. Take a peek at the output triples file"
   ]
  },
  {
   "cell_type": "code",
   "execution_count": 5,
   "id": "tamil-paintball",
   "metadata": {},
   "outputs": [
    {
     "name": "stdout",
     "output_type": "stream",
     "text": [
      "@prefix wikibase: <http://wikiba.se/ontology#> .\n",
      "@prefix wd: <http://www.wikidata.org/entity/> .\n",
      "@prefix wdt: <http://www.wikidata.org/prop/direct/> .\n",
      "@prefix wdtn: <http://www.wikidata.org/prop/direct-normalized/> .\n",
      "@prefix wdno: <http://www.wikidata.org/prop/novalue/> .\n",
      "@prefix wds: <http://www.wikidata.org/entity/statement/> .\n",
      "@prefix wdv: <http://www.wikidata.org/value/> .\n",
      "@prefix wdref: <http://www.wikidata.org/reference/> .\n",
      "@prefix p: <http://www.wikidata.org/prop/> .\n",
      "@prefix pr: <http://www.wikidata.org/prop/reference/> .\n",
      "@prefix prv: <http://www.wikidata.org/prop/reference/value/> .\n",
      "@prefix prn: <http://www.wikidata.org/prop/reference/value-normalized/> .\n",
      "@prefix ps: <http://www.wikidata.org/prop/statement/> .\n",
      "@prefix psv: <http://www.wikidata.org/prop/statement/value/> .\n",
      "@prefix psn: <http://www.wikidata.org/prop/statement/value-normalized/> .\n",
      "@prefix pq: <http://www.wikidata.org/prop/qualifier/> .\n",
      "@prefix pqv: <http://www.wikidata.org/prop/qualifier/value/> .\n",
      "@prefix pqn: <http://www.wikidata.org/prop/qualifier/value-normalized/> .\n",
      "@prefix prov: <http://www.w3.org/ns/prov#> .\n",
      "@prefix skos: <http://www.w3.org/2004/02/skos/core#> .\n",
      "@prefix schema: <http://schema.org/> .\n",
      "\n",
      "wd:P10 a wikibase:Property ;\n",
      "    rdfs:label \"video\"@en ;\n",
      "    schema:description \"relevant video. For images, use the property P18. For film trailers, qualify with \\\\\\\\object has role\\\\\\\\ (P3831)=\\\\\\\\trailer\\\\\\\\ (Q622550)\"@en ;\n",
      "    schema:name \"video\"@en ;\n",
      "    wikibase:claim p:P10 ;\n",
      "    wikibase:directClaim wdt:P10 ;\n",
      "    wikibase:directClaimNormalized wdtn:P10 ;\n",
      "    wikibase:novalue wdno:P10 ;\n",
      "    wikibase:propertyType wikibase:String ;\n",
      "    wikibase:qualifier pq:P10 ;\n",
      "    wikibase:qualifierValue pqv:P10 ;\n",
      "    wikibase:qualifierValueNormalized pqn:P10 ;\n",
      "    wikibase:reference pr:P10 ;\n",
      "    wikibase:referenceValue prv:P10 ;\n",
      "    wikibase:referenceValueNormalized prn:P10 ;\n",
      "    wikibase:statementProperty ps:P10 ;\n",
      "    wikibase:statementValue psv:P10 ;\n",
      "    wikibase:statementValueNormalized psn:P10 ;\n",
      "    skos:altLabel \"animation\"@en,\n",
      "        \"gif\"@en,\n",
      "        \"media\"@en,\n",
      "        \"trailer (Commons)\"@en ;\n",
      "    skos:prefLabel \"video\"@en ;\n",
      "    p:P1628 wds:P10-1313919f-4579-4970-a00d-8c970c95d667,\n",
      "        wds:P10-9c65ce18-8b5a-4856-905a-cde244bd1517 ;\n",
      "    p:P1629 wds:P10-728a5d1b-e7a3-4a69-b1cc-92fb62e4ce5c ;\n",
      "    p:P1659 wds:P10-09f6338f-4a6f-4c46-93f7-15c58e6ae653,\n",
      "        wds:P10-40ae3f2c-bfc6-4ff8-b692-b6f2479e0bcd,\n",
      "gzcat: error writing to output: Broken pipe\n",
      "gzcat: /Users/amandeep/Documents/kypher/wikidata_os_v5/all.ttl.gz: uncompress failed\n"
     ]
    }
   ],
   "source": [
    "!gzcat \"$OUT\"/all.ttl.gz | head -n 50"
   ]
  },
  {
   "cell_type": "code",
   "execution_count": null,
   "id": "differential-brief",
   "metadata": {},
   "outputs": [],
   "source": []
  }
 ],
 "metadata": {
  "kernelspec": {
   "display_name": "kgtk-env",
   "language": "python",
   "name": "kgtk-env"
  },
  "language_info": {
   "codemirror_mode": {
    "name": "ipython",
    "version": 3
   },
   "file_extension": ".py",
   "mimetype": "text/x-python",
   "name": "python",
   "nbconvert_exporter": "python",
   "pygments_lexer": "ipython3",
   "version": "3.7.9"
  }
 },
 "nbformat": 4,
 "nbformat_minor": 5
}
